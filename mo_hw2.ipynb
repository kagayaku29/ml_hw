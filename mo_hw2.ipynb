{
  "cells": [
    {
      "cell_type": "markdown",
      "metadata": {
        "id": "kzqZgXZ7bzJA"
      },
      "source": [
        "# **Импорт библиотек и загрузка данных**\n"
      ]
    },
    {
      "cell_type": "code",
      "execution_count": null,
      "metadata": {
        "id": "m3KmMDQbgfMW"
      },
      "outputs": [],
      "source": [
        "import pandas as pd\n",
        "from sklearn.model_selection import train_test_split\n",
        "from sklearn.metrics import accuracy_score\n",
        "from sklearn.dummy import DummyClassifier"
      ]
    },
    {
      "cell_type": "code",
      "execution_count": null,
      "metadata": {
        "id": "oMyCR9MxVztH"
      },
      "outputs": [],
      "source": [
        "%matplotlib inline"
      ]
    },
    {
      "cell_type": "code",
      "execution_count": null,
      "metadata": {
        "colab": {
          "base_uri": "https://localhost:8080/",
          "height": 72
        },
        "id": "9SpxF7Ho6YYQ",
        "outputId": "f973d93e-6578-4b3e-896a-33ee296ea6f7"
      },
      "outputs": [
        {
          "output_type": "display_data",
          "data": {
            "text/plain": [
              "<IPython.core.display.HTML object>"
            ],
            "text/html": [
              "\n",
              "     <input type=\"file\" id=\"files-3f644f11-51f6-412e-96be-2fe77105e356\" name=\"files[]\" multiple disabled\n",
              "        style=\"border:none\" />\n",
              "     <output id=\"result-3f644f11-51f6-412e-96be-2fe77105e356\">\n",
              "      Upload widget is only available when the cell has been executed in the\n",
              "      current browser session. Please rerun this cell to enable.\n",
              "      </output>\n",
              "      <script>// Copyright 2017 Google LLC\n",
              "//\n",
              "// Licensed under the Apache License, Version 2.0 (the \"License\");\n",
              "// you may not use this file except in compliance with the License.\n",
              "// You may obtain a copy of the License at\n",
              "//\n",
              "//      http://www.apache.org/licenses/LICENSE-2.0\n",
              "//\n",
              "// Unless required by applicable law or agreed to in writing, software\n",
              "// distributed under the License is distributed on an \"AS IS\" BASIS,\n",
              "// WITHOUT WARRANTIES OR CONDITIONS OF ANY KIND, either express or implied.\n",
              "// See the License for the specific language governing permissions and\n",
              "// limitations under the License.\n",
              "\n",
              "/**\n",
              " * @fileoverview Helpers for google.colab Python module.\n",
              " */\n",
              "(function(scope) {\n",
              "function span(text, styleAttributes = {}) {\n",
              "  const element = document.createElement('span');\n",
              "  element.textContent = text;\n",
              "  for (const key of Object.keys(styleAttributes)) {\n",
              "    element.style[key] = styleAttributes[key];\n",
              "  }\n",
              "  return element;\n",
              "}\n",
              "\n",
              "// Max number of bytes which will be uploaded at a time.\n",
              "const MAX_PAYLOAD_SIZE = 100 * 1024;\n",
              "\n",
              "function _uploadFiles(inputId, outputId) {\n",
              "  const steps = uploadFilesStep(inputId, outputId);\n",
              "  const outputElement = document.getElementById(outputId);\n",
              "  // Cache steps on the outputElement to make it available for the next call\n",
              "  // to uploadFilesContinue from Python.\n",
              "  outputElement.steps = steps;\n",
              "\n",
              "  return _uploadFilesContinue(outputId);\n",
              "}\n",
              "\n",
              "// This is roughly an async generator (not supported in the browser yet),\n",
              "// where there are multiple asynchronous steps and the Python side is going\n",
              "// to poll for completion of each step.\n",
              "// This uses a Promise to block the python side on completion of each step,\n",
              "// then passes the result of the previous step as the input to the next step.\n",
              "function _uploadFilesContinue(outputId) {\n",
              "  const outputElement = document.getElementById(outputId);\n",
              "  const steps = outputElement.steps;\n",
              "\n",
              "  const next = steps.next(outputElement.lastPromiseValue);\n",
              "  return Promise.resolve(next.value.promise).then((value) => {\n",
              "    // Cache the last promise value to make it available to the next\n",
              "    // step of the generator.\n",
              "    outputElement.lastPromiseValue = value;\n",
              "    return next.value.response;\n",
              "  });\n",
              "}\n",
              "\n",
              "/**\n",
              " * Generator function which is called between each async step of the upload\n",
              " * process.\n",
              " * @param {string} inputId Element ID of the input file picker element.\n",
              " * @param {string} outputId Element ID of the output display.\n",
              " * @return {!Iterable<!Object>} Iterable of next steps.\n",
              " */\n",
              "function* uploadFilesStep(inputId, outputId) {\n",
              "  const inputElement = document.getElementById(inputId);\n",
              "  inputElement.disabled = false;\n",
              "\n",
              "  const outputElement = document.getElementById(outputId);\n",
              "  outputElement.innerHTML = '';\n",
              "\n",
              "  const pickedPromise = new Promise((resolve) => {\n",
              "    inputElement.addEventListener('change', (e) => {\n",
              "      resolve(e.target.files);\n",
              "    });\n",
              "  });\n",
              "\n",
              "  const cancel = document.createElement('button');\n",
              "  inputElement.parentElement.appendChild(cancel);\n",
              "  cancel.textContent = 'Cancel upload';\n",
              "  const cancelPromise = new Promise((resolve) => {\n",
              "    cancel.onclick = () => {\n",
              "      resolve(null);\n",
              "    };\n",
              "  });\n",
              "\n",
              "  // Wait for the user to pick the files.\n",
              "  const files = yield {\n",
              "    promise: Promise.race([pickedPromise, cancelPromise]),\n",
              "    response: {\n",
              "      action: 'starting',\n",
              "    }\n",
              "  };\n",
              "\n",
              "  cancel.remove();\n",
              "\n",
              "  // Disable the input element since further picks are not allowed.\n",
              "  inputElement.disabled = true;\n",
              "\n",
              "  if (!files) {\n",
              "    return {\n",
              "      response: {\n",
              "        action: 'complete',\n",
              "      }\n",
              "    };\n",
              "  }\n",
              "\n",
              "  for (const file of files) {\n",
              "    const li = document.createElement('li');\n",
              "    li.append(span(file.name, {fontWeight: 'bold'}));\n",
              "    li.append(span(\n",
              "        `(${file.type || 'n/a'}) - ${file.size} bytes, ` +\n",
              "        `last modified: ${\n",
              "            file.lastModifiedDate ? file.lastModifiedDate.toLocaleDateString() :\n",
              "                                    'n/a'} - `));\n",
              "    const percent = span('0% done');\n",
              "    li.appendChild(percent);\n",
              "\n",
              "    outputElement.appendChild(li);\n",
              "\n",
              "    const fileDataPromise = new Promise((resolve) => {\n",
              "      const reader = new FileReader();\n",
              "      reader.onload = (e) => {\n",
              "        resolve(e.target.result);\n",
              "      };\n",
              "      reader.readAsArrayBuffer(file);\n",
              "    });\n",
              "    // Wait for the data to be ready.\n",
              "    let fileData = yield {\n",
              "      promise: fileDataPromise,\n",
              "      response: {\n",
              "        action: 'continue',\n",
              "      }\n",
              "    };\n",
              "\n",
              "    // Use a chunked sending to avoid message size limits. See b/62115660.\n",
              "    let position = 0;\n",
              "    do {\n",
              "      const length = Math.min(fileData.byteLength - position, MAX_PAYLOAD_SIZE);\n",
              "      const chunk = new Uint8Array(fileData, position, length);\n",
              "      position += length;\n",
              "\n",
              "      const base64 = btoa(String.fromCharCode.apply(null, chunk));\n",
              "      yield {\n",
              "        response: {\n",
              "          action: 'append',\n",
              "          file: file.name,\n",
              "          data: base64,\n",
              "        },\n",
              "      };\n",
              "\n",
              "      let percentDone = fileData.byteLength === 0 ?\n",
              "          100 :\n",
              "          Math.round((position / fileData.byteLength) * 100);\n",
              "      percent.textContent = `${percentDone}% done`;\n",
              "\n",
              "    } while (position < fileData.byteLength);\n",
              "  }\n",
              "\n",
              "  // All done.\n",
              "  yield {\n",
              "    response: {\n",
              "      action: 'complete',\n",
              "    }\n",
              "  };\n",
              "}\n",
              "\n",
              "scope.google = scope.google || {};\n",
              "scope.google.colab = scope.google.colab || {};\n",
              "scope.google.colab._files = {\n",
              "  _uploadFiles,\n",
              "  _uploadFilesContinue,\n",
              "};\n",
              "})(self);\n",
              "</script> "
            ]
          },
          "metadata": {}
        },
        {
          "output_type": "stream",
          "name": "stdout",
          "text": [
            "Saving McDonald_s_Reviews.csv to McDonald_s_Reviews.csv\n"
          ]
        }
      ],
      "source": [
        "from google.colab import files\n",
        "uploaded = files.upload()"
      ]
    },
    {
      "cell_type": "code",
      "execution_count": null,
      "metadata": {
        "colab": {
          "base_uri": "https://localhost:8080/",
          "height": 597
        },
        "id": "TI-Q83D785GA",
        "outputId": "bd89fda9-14d3-4971-a732-1ac4de5b5ce5"
      },
      "outputs": [
        {
          "output_type": "execute_result",
          "data": {
            "text/plain": [
              "       reviewer_id  store_name              category  \\\n",
              "0                1  McDonald's  Fast food restaurant   \n",
              "1                2  McDonald's  Fast food restaurant   \n",
              "2                3  McDonald's  Fast food restaurant   \n",
              "3                4  McDonald's  Fast food restaurant   \n",
              "4                5  McDonald's  Fast food restaurant   \n",
              "...            ...         ...                   ...   \n",
              "33391        33392  McDonald's  Fast food restaurant   \n",
              "33392        33393  McDonald's  Fast food restaurant   \n",
              "33393        33394  McDonald's  Fast food restaurant   \n",
              "33394        33395  McDonald's  Fast food restaurant   \n",
              "33395        33396  McDonald's  Fast food restaurant   \n",
              "\n",
              "                                           store_address  latitude   \\\n",
              "0      13749 US-183 Hwy, Austin, TX 78750, United States  30.460718   \n",
              "1      13749 US-183 Hwy, Austin, TX 78750, United States  30.460718   \n",
              "2      13749 US-183 Hwy, Austin, TX 78750, United States  30.460718   \n",
              "3      13749 US-183 Hwy, Austin, TX 78750, United States  30.460718   \n",
              "4      13749 US-183 Hwy, Austin, TX 78750, United States  30.460718   \n",
              "...                                                  ...        ...   \n",
              "33391  3501 Biscayne Blvd, Miami, FL 33137, United St...  25.810000   \n",
              "33392  3501 Biscayne Blvd, Miami, FL 33137, United St...  25.810000   \n",
              "33393  3501 Biscayne Blvd, Miami, FL 33137, United St...  25.810000   \n",
              "33394  3501 Biscayne Blvd, Miami, FL 33137, United St...  25.810000   \n",
              "33395  3501 Biscayne Blvd, Miami, FL 33137, United St...  25.810000   \n",
              "\n",
              "       longitude rating_count   review_time  \\\n",
              "0     -97.792874        1,240  3 months ago   \n",
              "1     -97.792874        1,240    5 days ago   \n",
              "2     -97.792874        1,240    5 days ago   \n",
              "3     -97.792874        1,240   a month ago   \n",
              "4     -97.792874        1,240  2 months ago   \n",
              "...          ...          ...           ...   \n",
              "33391 -80.189098        2,810   4 years ago   \n",
              "33392 -80.189098        2,810    a year ago   \n",
              "33393 -80.189098        2,810    a year ago   \n",
              "33394 -80.189098        2,810   5 years ago   \n",
              "33395 -80.189098        2,810   2 years ago   \n",
              "\n",
              "                                                  review   rating  \n",
              "0      Why does it look like someone spit on my food?...   1 star  \n",
              "1      It'd McDonalds. It is what it is as far as the...  4 stars  \n",
              "2      Made a mobile order got to the speaker and che...   1 star  \n",
              "3      My mc. Crispy chicken sandwich was ï¿½ï¿½ï¿½ï¿...  5 stars  \n",
              "4      I repeat my order 3 times in the drive thru, a...   1 star  \n",
              "...                                                  ...      ...  \n",
              "33391                        They treated me very badly.   1 star  \n",
              "33392                           The service is very good  5 stars  \n",
              "33393                         To remove hunger is enough  4 stars  \n",
              "33394  It's good, but lately it has become very expen...  5 stars  \n",
              "33395                          they took good care of me  5 stars  \n",
              "\n",
              "[33396 rows x 10 columns]"
            ],
            "text/html": [
              "\n",
              "  <div id=\"df-40a3a984-d127-4538-95b6-8887ebb818a9\" class=\"colab-df-container\">\n",
              "    <div>\n",
              "<style scoped>\n",
              "    .dataframe tbody tr th:only-of-type {\n",
              "        vertical-align: middle;\n",
              "    }\n",
              "\n",
              "    .dataframe tbody tr th {\n",
              "        vertical-align: top;\n",
              "    }\n",
              "\n",
              "    .dataframe thead th {\n",
              "        text-align: right;\n",
              "    }\n",
              "</style>\n",
              "<table border=\"1\" class=\"dataframe\">\n",
              "  <thead>\n",
              "    <tr style=\"text-align: right;\">\n",
              "      <th></th>\n",
              "      <th>reviewer_id</th>\n",
              "      <th>store_name</th>\n",
              "      <th>category</th>\n",
              "      <th>store_address</th>\n",
              "      <th>latitude</th>\n",
              "      <th>longitude</th>\n",
              "      <th>rating_count</th>\n",
              "      <th>review_time</th>\n",
              "      <th>review</th>\n",
              "      <th>rating</th>\n",
              "    </tr>\n",
              "  </thead>\n",
              "  <tbody>\n",
              "    <tr>\n",
              "      <th>0</th>\n",
              "      <td>1</td>\n",
              "      <td>McDonald's</td>\n",
              "      <td>Fast food restaurant</td>\n",
              "      <td>13749 US-183 Hwy, Austin, TX 78750, United States</td>\n",
              "      <td>30.460718</td>\n",
              "      <td>-97.792874</td>\n",
              "      <td>1,240</td>\n",
              "      <td>3 months ago</td>\n",
              "      <td>Why does it look like someone spit on my food?...</td>\n",
              "      <td>1 star</td>\n",
              "    </tr>\n",
              "    <tr>\n",
              "      <th>1</th>\n",
              "      <td>2</td>\n",
              "      <td>McDonald's</td>\n",
              "      <td>Fast food restaurant</td>\n",
              "      <td>13749 US-183 Hwy, Austin, TX 78750, United States</td>\n",
              "      <td>30.460718</td>\n",
              "      <td>-97.792874</td>\n",
              "      <td>1,240</td>\n",
              "      <td>5 days ago</td>\n",
              "      <td>It'd McDonalds. It is what it is as far as the...</td>\n",
              "      <td>4 stars</td>\n",
              "    </tr>\n",
              "    <tr>\n",
              "      <th>2</th>\n",
              "      <td>3</td>\n",
              "      <td>McDonald's</td>\n",
              "      <td>Fast food restaurant</td>\n",
              "      <td>13749 US-183 Hwy, Austin, TX 78750, United States</td>\n",
              "      <td>30.460718</td>\n",
              "      <td>-97.792874</td>\n",
              "      <td>1,240</td>\n",
              "      <td>5 days ago</td>\n",
              "      <td>Made a mobile order got to the speaker and che...</td>\n",
              "      <td>1 star</td>\n",
              "    </tr>\n",
              "    <tr>\n",
              "      <th>3</th>\n",
              "      <td>4</td>\n",
              "      <td>McDonald's</td>\n",
              "      <td>Fast food restaurant</td>\n",
              "      <td>13749 US-183 Hwy, Austin, TX 78750, United States</td>\n",
              "      <td>30.460718</td>\n",
              "      <td>-97.792874</td>\n",
              "      <td>1,240</td>\n",
              "      <td>a month ago</td>\n",
              "      <td>My mc. Crispy chicken sandwich was ï¿½ï¿½ï¿½ï¿...</td>\n",
              "      <td>5 stars</td>\n",
              "    </tr>\n",
              "    <tr>\n",
              "      <th>4</th>\n",
              "      <td>5</td>\n",
              "      <td>McDonald's</td>\n",
              "      <td>Fast food restaurant</td>\n",
              "      <td>13749 US-183 Hwy, Austin, TX 78750, United States</td>\n",
              "      <td>30.460718</td>\n",
              "      <td>-97.792874</td>\n",
              "      <td>1,240</td>\n",
              "      <td>2 months ago</td>\n",
              "      <td>I repeat my order 3 times in the drive thru, a...</td>\n",
              "      <td>1 star</td>\n",
              "    </tr>\n",
              "    <tr>\n",
              "      <th>...</th>\n",
              "      <td>...</td>\n",
              "      <td>...</td>\n",
              "      <td>...</td>\n",
              "      <td>...</td>\n",
              "      <td>...</td>\n",
              "      <td>...</td>\n",
              "      <td>...</td>\n",
              "      <td>...</td>\n",
              "      <td>...</td>\n",
              "      <td>...</td>\n",
              "    </tr>\n",
              "    <tr>\n",
              "      <th>33391</th>\n",
              "      <td>33392</td>\n",
              "      <td>McDonald's</td>\n",
              "      <td>Fast food restaurant</td>\n",
              "      <td>3501 Biscayne Blvd, Miami, FL 33137, United St...</td>\n",
              "      <td>25.810000</td>\n",
              "      <td>-80.189098</td>\n",
              "      <td>2,810</td>\n",
              "      <td>4 years ago</td>\n",
              "      <td>They treated me very badly.</td>\n",
              "      <td>1 star</td>\n",
              "    </tr>\n",
              "    <tr>\n",
              "      <th>33392</th>\n",
              "      <td>33393</td>\n",
              "      <td>McDonald's</td>\n",
              "      <td>Fast food restaurant</td>\n",
              "      <td>3501 Biscayne Blvd, Miami, FL 33137, United St...</td>\n",
              "      <td>25.810000</td>\n",
              "      <td>-80.189098</td>\n",
              "      <td>2,810</td>\n",
              "      <td>a year ago</td>\n",
              "      <td>The service is very good</td>\n",
              "      <td>5 stars</td>\n",
              "    </tr>\n",
              "    <tr>\n",
              "      <th>33393</th>\n",
              "      <td>33394</td>\n",
              "      <td>McDonald's</td>\n",
              "      <td>Fast food restaurant</td>\n",
              "      <td>3501 Biscayne Blvd, Miami, FL 33137, United St...</td>\n",
              "      <td>25.810000</td>\n",
              "      <td>-80.189098</td>\n",
              "      <td>2,810</td>\n",
              "      <td>a year ago</td>\n",
              "      <td>To remove hunger is enough</td>\n",
              "      <td>4 stars</td>\n",
              "    </tr>\n",
              "    <tr>\n",
              "      <th>33394</th>\n",
              "      <td>33395</td>\n",
              "      <td>McDonald's</td>\n",
              "      <td>Fast food restaurant</td>\n",
              "      <td>3501 Biscayne Blvd, Miami, FL 33137, United St...</td>\n",
              "      <td>25.810000</td>\n",
              "      <td>-80.189098</td>\n",
              "      <td>2,810</td>\n",
              "      <td>5 years ago</td>\n",
              "      <td>It's good, but lately it has become very expen...</td>\n",
              "      <td>5 stars</td>\n",
              "    </tr>\n",
              "    <tr>\n",
              "      <th>33395</th>\n",
              "      <td>33396</td>\n",
              "      <td>McDonald's</td>\n",
              "      <td>Fast food restaurant</td>\n",
              "      <td>3501 Biscayne Blvd, Miami, FL 33137, United St...</td>\n",
              "      <td>25.810000</td>\n",
              "      <td>-80.189098</td>\n",
              "      <td>2,810</td>\n",
              "      <td>2 years ago</td>\n",
              "      <td>they took good care of me</td>\n",
              "      <td>5 stars</td>\n",
              "    </tr>\n",
              "  </tbody>\n",
              "</table>\n",
              "<p>33396 rows × 10 columns</p>\n",
              "</div>\n",
              "    <div class=\"colab-df-buttons\">\n",
              "\n",
              "  <div class=\"colab-df-container\">\n",
              "    <button class=\"colab-df-convert\" onclick=\"convertToInteractive('df-40a3a984-d127-4538-95b6-8887ebb818a9')\"\n",
              "            title=\"Convert this dataframe to an interactive table.\"\n",
              "            style=\"display:none;\">\n",
              "\n",
              "  <svg xmlns=\"http://www.w3.org/2000/svg\" height=\"24px\" viewBox=\"0 -960 960 960\">\n",
              "    <path d=\"M120-120v-720h720v720H120Zm60-500h600v-160H180v160Zm220 220h160v-160H400v160Zm0 220h160v-160H400v160ZM180-400h160v-160H180v160Zm440 0h160v-160H620v160ZM180-180h160v-160H180v160Zm440 0h160v-160H620v160Z\"/>\n",
              "  </svg>\n",
              "    </button>\n",
              "\n",
              "  <style>\n",
              "    .colab-df-container {\n",
              "      display:flex;\n",
              "      gap: 12px;\n",
              "    }\n",
              "\n",
              "    .colab-df-convert {\n",
              "      background-color: #E8F0FE;\n",
              "      border: none;\n",
              "      border-radius: 50%;\n",
              "      cursor: pointer;\n",
              "      display: none;\n",
              "      fill: #1967D2;\n",
              "      height: 32px;\n",
              "      padding: 0 0 0 0;\n",
              "      width: 32px;\n",
              "    }\n",
              "\n",
              "    .colab-df-convert:hover {\n",
              "      background-color: #E2EBFA;\n",
              "      box-shadow: 0px 1px 2px rgba(60, 64, 67, 0.3), 0px 1px 3px 1px rgba(60, 64, 67, 0.15);\n",
              "      fill: #174EA6;\n",
              "    }\n",
              "\n",
              "    .colab-df-buttons div {\n",
              "      margin-bottom: 4px;\n",
              "    }\n",
              "\n",
              "    [theme=dark] .colab-df-convert {\n",
              "      background-color: #3B4455;\n",
              "      fill: #D2E3FC;\n",
              "    }\n",
              "\n",
              "    [theme=dark] .colab-df-convert:hover {\n",
              "      background-color: #434B5C;\n",
              "      box-shadow: 0px 1px 3px 1px rgba(0, 0, 0, 0.15);\n",
              "      filter: drop-shadow(0px 1px 2px rgba(0, 0, 0, 0.3));\n",
              "      fill: #FFFFFF;\n",
              "    }\n",
              "  </style>\n",
              "\n",
              "    <script>\n",
              "      const buttonEl =\n",
              "        document.querySelector('#df-40a3a984-d127-4538-95b6-8887ebb818a9 button.colab-df-convert');\n",
              "      buttonEl.style.display =\n",
              "        google.colab.kernel.accessAllowed ? 'block' : 'none';\n",
              "\n",
              "      async function convertToInteractive(key) {\n",
              "        const element = document.querySelector('#df-40a3a984-d127-4538-95b6-8887ebb818a9');\n",
              "        const dataTable =\n",
              "          await google.colab.kernel.invokeFunction('convertToInteractive',\n",
              "                                                    [key], {});\n",
              "        if (!dataTable) return;\n",
              "\n",
              "        const docLinkHtml = 'Like what you see? Visit the ' +\n",
              "          '<a target=\"_blank\" href=https://colab.research.google.com/notebooks/data_table.ipynb>data table notebook</a>'\n",
              "          + ' to learn more about interactive tables.';\n",
              "        element.innerHTML = '';\n",
              "        dataTable['output_type'] = 'display_data';\n",
              "        await google.colab.output.renderOutput(dataTable, element);\n",
              "        const docLink = document.createElement('div');\n",
              "        docLink.innerHTML = docLinkHtml;\n",
              "        element.appendChild(docLink);\n",
              "      }\n",
              "    </script>\n",
              "  </div>\n",
              "\n",
              "\n",
              "<div id=\"df-79e2d076-d33e-49a0-a77d-1eac6a9dfe17\">\n",
              "  <button class=\"colab-df-quickchart\" onclick=\"quickchart('df-79e2d076-d33e-49a0-a77d-1eac6a9dfe17')\"\n",
              "            title=\"Suggest charts\"\n",
              "            style=\"display:none;\">\n",
              "\n",
              "<svg xmlns=\"http://www.w3.org/2000/svg\" height=\"24px\"viewBox=\"0 0 24 24\"\n",
              "     width=\"24px\">\n",
              "    <g>\n",
              "        <path d=\"M19 3H5c-1.1 0-2 .9-2 2v14c0 1.1.9 2 2 2h14c1.1 0 2-.9 2-2V5c0-1.1-.9-2-2-2zM9 17H7v-7h2v7zm4 0h-2V7h2v10zm4 0h-2v-4h2v4z\"/>\n",
              "    </g>\n",
              "</svg>\n",
              "  </button>\n",
              "\n",
              "<style>\n",
              "  .colab-df-quickchart {\n",
              "      --bg-color: #E8F0FE;\n",
              "      --fill-color: #1967D2;\n",
              "      --hover-bg-color: #E2EBFA;\n",
              "      --hover-fill-color: #174EA6;\n",
              "      --disabled-fill-color: #AAA;\n",
              "      --disabled-bg-color: #DDD;\n",
              "  }\n",
              "\n",
              "  [theme=dark] .colab-df-quickchart {\n",
              "      --bg-color: #3B4455;\n",
              "      --fill-color: #D2E3FC;\n",
              "      --hover-bg-color: #434B5C;\n",
              "      --hover-fill-color: #FFFFFF;\n",
              "      --disabled-bg-color: #3B4455;\n",
              "      --disabled-fill-color: #666;\n",
              "  }\n",
              "\n",
              "  .colab-df-quickchart {\n",
              "    background-color: var(--bg-color);\n",
              "    border: none;\n",
              "    border-radius: 50%;\n",
              "    cursor: pointer;\n",
              "    display: none;\n",
              "    fill: var(--fill-color);\n",
              "    height: 32px;\n",
              "    padding: 0;\n",
              "    width: 32px;\n",
              "  }\n",
              "\n",
              "  .colab-df-quickchart:hover {\n",
              "    background-color: var(--hover-bg-color);\n",
              "    box-shadow: 0 1px 2px rgba(60, 64, 67, 0.3), 0 1px 3px 1px rgba(60, 64, 67, 0.15);\n",
              "    fill: var(--button-hover-fill-color);\n",
              "  }\n",
              "\n",
              "  .colab-df-quickchart-complete:disabled,\n",
              "  .colab-df-quickchart-complete:disabled:hover {\n",
              "    background-color: var(--disabled-bg-color);\n",
              "    fill: var(--disabled-fill-color);\n",
              "    box-shadow: none;\n",
              "  }\n",
              "\n",
              "  .colab-df-spinner {\n",
              "    border: 2px solid var(--fill-color);\n",
              "    border-color: transparent;\n",
              "    border-bottom-color: var(--fill-color);\n",
              "    animation:\n",
              "      spin 1s steps(1) infinite;\n",
              "  }\n",
              "\n",
              "  @keyframes spin {\n",
              "    0% {\n",
              "      border-color: transparent;\n",
              "      border-bottom-color: var(--fill-color);\n",
              "      border-left-color: var(--fill-color);\n",
              "    }\n",
              "    20% {\n",
              "      border-color: transparent;\n",
              "      border-left-color: var(--fill-color);\n",
              "      border-top-color: var(--fill-color);\n",
              "    }\n",
              "    30% {\n",
              "      border-color: transparent;\n",
              "      border-left-color: var(--fill-color);\n",
              "      border-top-color: var(--fill-color);\n",
              "      border-right-color: var(--fill-color);\n",
              "    }\n",
              "    40% {\n",
              "      border-color: transparent;\n",
              "      border-right-color: var(--fill-color);\n",
              "      border-top-color: var(--fill-color);\n",
              "    }\n",
              "    60% {\n",
              "      border-color: transparent;\n",
              "      border-right-color: var(--fill-color);\n",
              "    }\n",
              "    80% {\n",
              "      border-color: transparent;\n",
              "      border-right-color: var(--fill-color);\n",
              "      border-bottom-color: var(--fill-color);\n",
              "    }\n",
              "    90% {\n",
              "      border-color: transparent;\n",
              "      border-bottom-color: var(--fill-color);\n",
              "    }\n",
              "  }\n",
              "</style>\n",
              "\n",
              "  <script>\n",
              "    async function quickchart(key) {\n",
              "      const quickchartButtonEl =\n",
              "        document.querySelector('#' + key + ' button');\n",
              "      quickchartButtonEl.disabled = true;  // To prevent multiple clicks.\n",
              "      quickchartButtonEl.classList.add('colab-df-spinner');\n",
              "      try {\n",
              "        const charts = await google.colab.kernel.invokeFunction(\n",
              "            'suggestCharts', [key], {});\n",
              "      } catch (error) {\n",
              "        console.error('Error during call to suggestCharts:', error);\n",
              "      }\n",
              "      quickchartButtonEl.classList.remove('colab-df-spinner');\n",
              "      quickchartButtonEl.classList.add('colab-df-quickchart-complete');\n",
              "    }\n",
              "    (() => {\n",
              "      let quickchartButtonEl =\n",
              "        document.querySelector('#df-79e2d076-d33e-49a0-a77d-1eac6a9dfe17 button');\n",
              "      quickchartButtonEl.style.display =\n",
              "        google.colab.kernel.accessAllowed ? 'block' : 'none';\n",
              "    })();\n",
              "  </script>\n",
              "</div>\n",
              "    </div>\n",
              "  </div>\n"
            ]
          },
          "metadata": {},
          "execution_count": 4
        }
      ],
      "source": [
        "df = pd.read_csv('McDonald_s_Reviews.csv', encoding='ISO-8859-1')\n",
        "df"
      ]
    },
    {
      "cell_type": "markdown",
      "metadata": {
        "id": "P2Mbbw7_gNvk"
      },
      "source": [
        "*pandas* - для работы с данными в виде датафреймов\n",
        "\n",
        "*scikit-learn*\n",
        "\n",
        "1.   Импрот *train_test_split* для разделения данных на тренировочную и тестовую выборки.\n",
        "2.   Метрика *accuracy_score* - для оценки точности классификационных моделей. Она измеряет долю правильных предсказаний.\n",
        "3. DummyClassifier - предоставляет простые стратегии для классификации\n",
        "\n"
      ]
    },
    {
      "cell_type": "markdown",
      "metadata": {
        "id": "Lorwj4NG9-Vd"
      },
      "source": [
        "# **Измерение качества константного предсказания**"
      ]
    },
    {
      "cell_type": "code",
      "execution_count": null,
      "metadata": {
        "colab": {
          "base_uri": "https://localhost:8080/"
        },
        "id": "lfNy1Kf49JB2",
        "outputId": "80b3d9f6-44eb-4442-df02-4ec8a66bdaf4"
      },
      "outputs": [
        {
          "output_type": "stream",
          "name": "stdout",
          "text": [
            "Accuracy константного предсказания: 0.30764163372859027\n"
          ]
        }
      ],
      "source": [
        "most_frequent_rating = df['rating'].mode()[0]\n",
        "constant_predictions = [most_frequent_rating] * len(df)\n",
        "\n",
        "constant_accuracy = accuracy_score(df['rating'], constant_predictions)\n",
        "print(f\"Accuracy константного предсказания: {constant_accuracy}\")\n",
        "#print (most_frequent_rating)"
      ]
    },
    {
      "cell_type": "markdown",
      "metadata": {
        "id": "AjPMtJi_kpor"
      },
      "source": [
        "Вычисляю наиболее часто встречающийся класс в столбце 'rating'\n",
        "\n",
        "Создаю список, содержащий константные предсказания, где каждое предсказание равно найденному наиболее частому классу. Это создает \"глупый\" классификатор, который всегда предсказывает один и тот же класс.\n",
        "\n",
        " Измеряю точность константного предсказания, сравнивая его с фактическими значениями из столбца 'rating' с использованием метрики accuracy_score.\n",
        "\n"
      ]
    },
    {
      "cell_type": "markdown",
      "metadata": {
        "id": "tdAYmjb5-SxX"
      },
      "source": [
        "# **Разбиение на тренировочную/тестовую выборки**"
      ]
    },
    {
      "cell_type": "code",
      "execution_count": null,
      "metadata": {
        "id": "NASK3qIT-Fsq"
      },
      "outputs": [],
      "source": [
        "train_df, test_df = train_test_split(df, test_size=0.2, random_state=42)"
      ]
    },
    {
      "cell_type": "markdown",
      "metadata": {
        "id": "CMS2OvhWoNzl"
      },
      "source": [
        "Разделения исходного датасета на две части. test_size=0.2 указывает, что 20% данных будут выделены для тестирования, а 80% - для обучения модели.\n",
        "\n",
        "Гарантирует, что разделение данных будет одинаковым при каждом запуске кода. Это важно для воспроизводимости результатов и сравнения производительности моделей на одних и тех же данных."
      ]
    },
    {
      "cell_type": "markdown",
      "metadata": {
        "id": "osjEfFBi-Wxs"
      },
      "source": [
        "# **Обучение бейзлайн-модели**"
      ]
    },
    {
      "cell_type": "code",
      "execution_count": null,
      "metadata": {
        "colab": {
          "base_uri": "https://localhost:8080/"
        },
        "id": "4kM4FAIH-csp",
        "outputId": "de2d1d59-adfe-4bd5-e566-d5f417a73648"
      },
      "outputs": [
        {
          "output_type": "stream",
          "name": "stdout",
          "text": [
            "Index(['reviewer_id', 'store_name', 'category', 'store_address', 'latitude ',\n",
            "       'longitude', 'rating_count', 'review_time', 'review', 'rating'],\n",
            "      dtype='object')\n"
          ]
        }
      ],
      "source": [
        "print(train_df.columns)"
      ]
    },
    {
      "cell_type": "code",
      "execution_count": null,
      "metadata": {
        "colab": {
          "base_uri": "https://localhost:8080/",
          "height": 74
        },
        "id": "pVskETCkBAO8",
        "outputId": "87d0e741-253f-445d-ee75-821a8002bc69"
      },
      "outputs": [
        {
          "output_type": "execute_result",
          "data": {
            "text/plain": [
              "DummyClassifier(random_state=42)"
            ],
            "text/html": [
              "<style>#sk-container-id-17 {color: black;background-color: white;}#sk-container-id-17 pre{padding: 0;}#sk-container-id-17 div.sk-toggleable {background-color: white;}#sk-container-id-17 label.sk-toggleable__label {cursor: pointer;display: block;width: 100%;margin-bottom: 0;padding: 0.3em;box-sizing: border-box;text-align: center;}#sk-container-id-17 label.sk-toggleable__label-arrow:before {content: \"▸\";float: left;margin-right: 0.25em;color: #696969;}#sk-container-id-17 label.sk-toggleable__label-arrow:hover:before {color: black;}#sk-container-id-17 div.sk-estimator:hover label.sk-toggleable__label-arrow:before {color: black;}#sk-container-id-17 div.sk-toggleable__content {max-height: 0;max-width: 0;overflow: hidden;text-align: left;background-color: #f0f8ff;}#sk-container-id-17 div.sk-toggleable__content pre {margin: 0.2em;color: black;border-radius: 0.25em;background-color: #f0f8ff;}#sk-container-id-17 input.sk-toggleable__control:checked~div.sk-toggleable__content {max-height: 200px;max-width: 100%;overflow: auto;}#sk-container-id-17 input.sk-toggleable__control:checked~label.sk-toggleable__label-arrow:before {content: \"▾\";}#sk-container-id-17 div.sk-estimator input.sk-toggleable__control:checked~label.sk-toggleable__label {background-color: #d4ebff;}#sk-container-id-17 div.sk-label input.sk-toggleable__control:checked~label.sk-toggleable__label {background-color: #d4ebff;}#sk-container-id-17 input.sk-hidden--visually {border: 0;clip: rect(1px 1px 1px 1px);clip: rect(1px, 1px, 1px, 1px);height: 1px;margin: -1px;overflow: hidden;padding: 0;position: absolute;width: 1px;}#sk-container-id-17 div.sk-estimator {font-family: monospace;background-color: #f0f8ff;border: 1px dotted black;border-radius: 0.25em;box-sizing: border-box;margin-bottom: 0.5em;}#sk-container-id-17 div.sk-estimator:hover {background-color: #d4ebff;}#sk-container-id-17 div.sk-parallel-item::after {content: \"\";width: 100%;border-bottom: 1px solid gray;flex-grow: 1;}#sk-container-id-17 div.sk-label:hover label.sk-toggleable__label {background-color: #d4ebff;}#sk-container-id-17 div.sk-serial::before {content: \"\";position: absolute;border-left: 1px solid gray;box-sizing: border-box;top: 0;bottom: 0;left: 50%;z-index: 0;}#sk-container-id-17 div.sk-serial {display: flex;flex-direction: column;align-items: center;background-color: white;padding-right: 0.2em;padding-left: 0.2em;position: relative;}#sk-container-id-17 div.sk-item {position: relative;z-index: 1;}#sk-container-id-17 div.sk-parallel {display: flex;align-items: stretch;justify-content: center;background-color: white;position: relative;}#sk-container-id-17 div.sk-item::before, #sk-container-id-17 div.sk-parallel-item::before {content: \"\";position: absolute;border-left: 1px solid gray;box-sizing: border-box;top: 0;bottom: 0;left: 50%;z-index: -1;}#sk-container-id-17 div.sk-parallel-item {display: flex;flex-direction: column;z-index: 1;position: relative;background-color: white;}#sk-container-id-17 div.sk-parallel-item:first-child::after {align-self: flex-end;width: 50%;}#sk-container-id-17 div.sk-parallel-item:last-child::after {align-self: flex-start;width: 50%;}#sk-container-id-17 div.sk-parallel-item:only-child::after {width: 0;}#sk-container-id-17 div.sk-dashed-wrapped {border: 1px dashed gray;margin: 0 0.4em 0.5em 0.4em;box-sizing: border-box;padding-bottom: 0.4em;background-color: white;}#sk-container-id-17 div.sk-label label {font-family: monospace;font-weight: bold;display: inline-block;line-height: 1.2em;}#sk-container-id-17 div.sk-label-container {text-align: center;}#sk-container-id-17 div.sk-container {/* jupyter's `normalize.less` sets `[hidden] { display: none; }` but bootstrap.min.css set `[hidden] { display: none !important; }` so we also need the `!important` here to be able to override the default hidden behavior on the sphinx rendered scikit-learn.org. See: https://github.com/scikit-learn/scikit-learn/issues/21755 */display: inline-block !important;position: relative;}#sk-container-id-17 div.sk-text-repr-fallback {display: none;}</style><div id=\"sk-container-id-17\" class=\"sk-top-container\"><div class=\"sk-text-repr-fallback\"><pre>DummyClassifier(random_state=42)</pre><b>In a Jupyter environment, please rerun this cell to show the HTML representation or trust the notebook. <br />On GitHub, the HTML representation is unable to render, please try loading this page with nbviewer.org.</b></div><div class=\"sk-container\" hidden><div class=\"sk-item\"><div class=\"sk-estimator sk-toggleable\"><input class=\"sk-toggleable__control sk-hidden--visually\" id=\"sk-estimator-id-83\" type=\"checkbox\" checked><label for=\"sk-estimator-id-83\" class=\"sk-toggleable__label sk-toggleable__label-arrow\">DummyClassifier</label><div class=\"sk-toggleable__content\"><pre>DummyClassifier(random_state=42)</pre></div></div></div></div></div>"
            ]
          },
          "metadata": {},
          "execution_count": 110
        }
      ],
      "source": [
        "train_df['rating_count'] = train_df['rating_count'].apply(lambda x: pd.to_numeric(str(x).replace(',', ''), errors='coerce'))\n",
        "test_df['rating_count'] = test_df['rating_count'].apply(lambda x: pd.to_numeric(str(x).replace(',', ''), errors='coerce'))\n",
        "\n",
        "mean_rating_count = train_df['rating_count'].mean()\n",
        "train_df['rating_count'].fillna(mean_rating_count, inplace=True)\n",
        "test_df['rating_count'].fillna(mean_rating_count, inplace=True)\n",
        "\n",
        "train_df.dropna(subset=['latitude ', 'longitude', 'category'], inplace=True)\n",
        "test_df.dropna(subset=['latitude ', 'longitude', 'category'], inplace=True)\n",
        "\n",
        "features = ['latitude ', 'longitude', 'rating_count', 'category']\n",
        "X_train = train_df[features]\n",
        "y_train = train_df['rating']\n",
        "X_test = test_df [features]\n",
        "y_test = test_df ['rating']\n",
        "\n",
        "\n",
        "dummy_clf = DummyClassifier(random_state=42)\n",
        "dummy_clf.fit(X_train, y_train)"
      ]
    },
    {
      "cell_type": "markdown",
      "metadata": {
        "id": "yDKWg5xuouoq"
      },
      "source": [
        "Преобразование 'rating_count' в числовой формат.\n",
        "\n",
        "Замена пропущенных значений 'rating_count' на среднее.\n",
        "\n",
        "Удаление строк с пропущенными значениями и выбор признаков.\n",
        "\n",
        "Создание матрицы признаков и вектора целевой переменной для тренировочной выборки.\n",
        "\n",
        "dummy_clf = DummyClassifier(random_state=42): Создаем константный классификатор, предсказывающий случайные классы.\n",
        "dummy_clf.fit(X_train, y_train): Обучаем классификатор на тренировочных данных."
      ]
    },
    {
      "cell_type": "markdown",
      "metadata": {
        "id": "wKrgIs8ycLDq"
      },
      "source": [
        "# **Измерение качества на отложенной выборке**"
      ]
    },
    {
      "cell_type": "code",
      "execution_count": null,
      "metadata": {
        "colab": {
          "base_uri": "https://localhost:8080/"
        },
        "id": "rRx_Cc0eBvEk",
        "outputId": "fce509f8-cb3e-4936-9556-2135aea5a901"
      },
      "outputs": [
        {
          "output_type": "stream",
          "name": "stdout",
          "text": [
            "Accuracy на тестовой выборке: 0.30703494582633906\n"
          ]
        }
      ],
      "source": [
        "predictions = dummy_clf.predict(X_test)\n",
        "accuracy = accuracy_score(y_test, predictions)\n",
        "print(f\"Accuracy на тестовой выборке: {accuracy}\")\n"
      ]
    },
    {
      "cell_type": "markdown",
      "metadata": {
        "id": "beKNMicypTyx"
      },
      "source": [
        "Модель использует обученные веса для предсказания целевых переменных на тестовой выборке X_test\n",
        "Используем метрику accuracy_score для сравнения предсказанных значений (predictions) с фактическими значениями из тестовой выборки (y_test)."
      ]
    },
    {
      "cell_type": "markdown",
      "metadata": {
        "id": "vsiMu9UEp2Vb"
      },
      "source": [
        "# **итог константное предскаяние и базовая модель**"
      ]
    },
    {
      "cell_type": "code",
      "execution_count": null,
      "metadata": {
        "colab": {
          "base_uri": "https://localhost:8080/"
        },
        "id": "d_2TuWLQpxOc",
        "outputId": "f0699098-18c5-4ffe-8585-eae7b3d38dc0"
      },
      "outputs": [
        {
          "output_type": "stream",
          "name": "stdout",
          "text": [
            "Модель не показывает значительное улучшение по сравнению с константным предсказанием.\n"
          ]
        }
      ],
      "source": [
        "if accuracy > constant_accuracy:\n",
        "    print(\"Модель показывает лучшую точность по сравнению с константным предсказанием.\")\n",
        "else:\n",
        "    print(\"Модель не показывает значительное улучшение по сравнению с константным предсказанием.\")"
      ]
    },
    {
      "cell_type": "markdown",
      "source": [
        "# Сложная модель"
      ],
      "metadata": {
        "id": "gESN14Wldfkz"
      }
    },
    {
      "cell_type": "code",
      "source": [
        "pip install optuna"
      ],
      "metadata": {
        "colab": {
          "base_uri": "https://localhost:8080/"
        },
        "id": "2kOrVHVpemVE",
        "outputId": "044a4831-4979-42b8-a672-62806e7262d9"
      },
      "execution_count": null,
      "outputs": [
        {
          "output_type": "stream",
          "name": "stdout",
          "text": [
            "Collecting optuna\n",
            "  Downloading optuna-3.5.0-py3-none-any.whl (413 kB)\n",
            "\u001b[2K     \u001b[90m━━━━━━━━━━━━━━━━━━━━━━━━━━━━━━━━━━━━━━━━\u001b[0m \u001b[32m413.4/413.4 kB\u001b[0m \u001b[31m5.6 MB/s\u001b[0m eta \u001b[36m0:00:00\u001b[0m\n",
            "\u001b[?25hCollecting alembic>=1.5.0 (from optuna)\n",
            "  Downloading alembic-1.13.1-py3-none-any.whl (233 kB)\n",
            "\u001b[2K     \u001b[90m━━━━━━━━━━━━━━━━━━━━━━━━━━━━━━━━━━━━━━━━\u001b[0m \u001b[32m233.4/233.4 kB\u001b[0m \u001b[31m9.9 MB/s\u001b[0m eta \u001b[36m0:00:00\u001b[0m\n",
            "\u001b[?25hCollecting colorlog (from optuna)\n",
            "  Downloading colorlog-6.8.0-py3-none-any.whl (11 kB)\n",
            "Requirement already satisfied: numpy in /usr/local/lib/python3.10/dist-packages (from optuna) (1.23.5)\n",
            "Requirement already satisfied: packaging>=20.0 in /usr/local/lib/python3.10/dist-packages (from optuna) (23.2)\n",
            "Requirement already satisfied: sqlalchemy>=1.3.0 in /usr/local/lib/python3.10/dist-packages (from optuna) (2.0.23)\n",
            "Requirement already satisfied: tqdm in /usr/local/lib/python3.10/dist-packages (from optuna) (4.66.1)\n",
            "Requirement already satisfied: PyYAML in /usr/local/lib/python3.10/dist-packages (from optuna) (6.0.1)\n",
            "Collecting Mako (from alembic>=1.5.0->optuna)\n",
            "  Downloading Mako-1.3.0-py3-none-any.whl (78 kB)\n",
            "\u001b[2K     \u001b[90m━━━━━━━━━━━━━━━━━━━━━━━━━━━━━━━━━━━━━━━━\u001b[0m \u001b[32m78.6/78.6 kB\u001b[0m \u001b[31m6.7 MB/s\u001b[0m eta \u001b[36m0:00:00\u001b[0m\n",
            "\u001b[?25hRequirement already satisfied: typing-extensions>=4 in /usr/local/lib/python3.10/dist-packages (from alembic>=1.5.0->optuna) (4.5.0)\n",
            "Requirement already satisfied: greenlet!=0.4.17 in /usr/local/lib/python3.10/dist-packages (from sqlalchemy>=1.3.0->optuna) (3.0.2)\n",
            "Requirement already satisfied: MarkupSafe>=0.9.2 in /usr/local/lib/python3.10/dist-packages (from Mako->alembic>=1.5.0->optuna) (2.1.3)\n",
            "Installing collected packages: Mako, colorlog, alembic, optuna\n",
            "Successfully installed Mako-1.3.0 alembic-1.13.1 colorlog-6.8.0 optuna-3.5.0\n"
          ]
        }
      ]
    },
    {
      "cell_type": "code",
      "source": [
        "import pandas as pd\n",
        "from sklearn.ensemble import GradientBoostingClassifier\n",
        "from sklearn.model_selection import cross_val_score, train_test_split\n",
        "from sklearn.preprocessing import OneHotEncoder\n",
        "from sklearn.compose import ColumnTransformer\n",
        "from sklearn.pipeline import Pipeline\n",
        "import optuna"
      ],
      "metadata": {
        "id": "zlslv9UxnG9n"
      },
      "execution_count": null,
      "outputs": []
    },
    {
      "cell_type": "code",
      "source": [
        "def objective(trial):\n",
        "    # Определение пространства поиска гиперпараметров\n",
        "    params = {\n",
        "        'n_estimators': trial.suggest_int('n_estimators', 50, 300),\n",
        "        'learning_rate': trial.suggest_float('learning_rate', 0.01, 0.5, log=True),\n",
        "        'max_depth': trial.suggest_int('max_depth', 3, 10),\n",
        "        'min_samples_split': trial.suggest_int('min_samples_split', 2, 20),\n",
        "        'min_samples_leaf': trial.suggest_int('min_samples_leaf', 1, 20)\n",
        "    }\n",
        "\n",
        "    # Преобразование категориальных признаков в дамми-переменные\n",
        "    X_train_encoded = pd.get_dummies(X_train)\n",
        "    X_test_encoded = pd.get_dummies(X_test)\n",
        "\n",
        "    # Создание и обучение модели с выбранными гиперпараметрами\n",
        "    model = GradientBoostingClassifier(**params, random_state=42)\n",
        "    model.fit(X_train_encoded, y_train)\n",
        "\n",
        "    # Предсказание на тестовой выборке и вычисление accuracy\n",
        "    predictions = model.predict(X_test_encoded)\n",
        "    accuracy = accuracy_score(y_test, predictions)\n",
        "\n",
        "    return accuracy\n",
        "\n",
        "# Создание study объекта Optuna и запуск оптимизации\n",
        "study = optuna.create_study(direction='maximize')\n",
        "study.optimize(objective, n_trials=20)\n",
        "\n",
        "# Получение наилучших гиперпараметров\n",
        "best_params = study.best_params\n",
        "print(\"Наилучшие гиперпараметры:\", best_params)\n"
      ],
      "metadata": {
        "colab": {
          "base_uri": "https://localhost:8080/"
        },
        "id": "au5FHK36FDkr",
        "outputId": "f300d264-ed0e-4de1-8644-6e93b1f9107b"
      },
      "execution_count": null,
      "outputs": [
        {
          "output_type": "stream",
          "name": "stderr",
          "text": [
            "[I 2023-12-27 21:26:36,592] A new study created in memory with name: no-name-3bb48667-0c62-4ffb-a2cc-5a6b98587390\n",
            "[I 2023-12-27 21:27:01,034] Trial 0 finished with value: 0.37402716313139023 and parameters: {'n_estimators': 223, 'learning_rate': 0.45995960274565323, 'max_depth': 5, 'min_samples_split': 3, 'min_samples_leaf': 10}. Best is trial 0 with value: 0.37402716313139023.\n",
            "[I 2023-12-27 21:27:26,002] Trial 1 finished with value: 0.37402716313139023 and parameters: {'n_estimators': 215, 'learning_rate': 0.016002792215313918, 'max_depth': 6, 'min_samples_split': 19, 'min_samples_leaf': 5}. Best is trial 0 with value: 0.37402716313139023.\n",
            "[I 2023-12-27 21:27:34,512] Trial 2 finished with value: 0.37402716313139023 and parameters: {'n_estimators': 87, 'learning_rate': 0.10414556636716113, 'max_depth': 4, 'min_samples_split': 14, 'min_samples_leaf': 20}. Best is trial 0 with value: 0.37402716313139023.\n",
            "[I 2023-12-27 21:27:57,502] Trial 3 finished with value: 0.37402716313139023 and parameters: {'n_estimators': 197, 'learning_rate': 0.026769357729451923, 'max_depth': 8, 'min_samples_split': 11, 'min_samples_leaf': 3}. Best is trial 0 with value: 0.37402716313139023.\n",
            "[I 2023-12-27 21:28:20,526] Trial 4 finished with value: 0.37402716313139023 and parameters: {'n_estimators': 191, 'learning_rate': 0.28084110066606793, 'max_depth': 8, 'min_samples_split': 9, 'min_samples_leaf': 3}. Best is trial 0 with value: 0.37402716313139023.\n",
            "[I 2023-12-27 21:28:39,444] Trial 5 finished with value: 0.37402716313139023 and parameters: {'n_estimators': 187, 'learning_rate': 0.09109669218659246, 'max_depth': 5, 'min_samples_split': 4, 'min_samples_leaf': 18}. Best is trial 0 with value: 0.37402716313139023.\n",
            "[I 2023-12-27 21:28:56,462] Trial 6 finished with value: 0.37402716313139023 and parameters: {'n_estimators': 129, 'learning_rate': 0.35103840962833427, 'max_depth': 9, 'min_samples_split': 5, 'min_samples_leaf': 17}. Best is trial 0 with value: 0.37402716313139023.\n",
            "[I 2023-12-27 21:29:17,510] Trial 7 finished with value: 0.37402716313139023 and parameters: {'n_estimators': 192, 'learning_rate': 0.023085905544861948, 'max_depth': 7, 'min_samples_split': 9, 'min_samples_leaf': 12}. Best is trial 0 with value: 0.37402716313139023.\n",
            "[I 2023-12-27 21:29:48,036] Trial 8 finished with value: 0.37402716313139023 and parameters: {'n_estimators': 246, 'learning_rate': 0.10022163426856312, 'max_depth': 8, 'min_samples_split': 4, 'min_samples_leaf': 12}. Best is trial 0 with value: 0.37402716313139023.\n",
            "[I 2023-12-27 21:30:23,706] Trial 9 finished with value: 0.37402716313139023 and parameters: {'n_estimators': 292, 'learning_rate': 0.03543782688015199, 'max_depth': 9, 'min_samples_split': 12, 'min_samples_leaf': 17}. Best is trial 0 with value: 0.37402716313139023.\n",
            "[I 2023-12-27 21:30:28,328] Trial 10 finished with value: 0.37402716313139023 and parameters: {'n_estimators': 51, 'learning_rate': 0.4783478429855171, 'max_depth': 3, 'min_samples_split': 2, 'min_samples_leaf': 8}. Best is trial 0 with value: 0.37402716313139023.\n",
            "[I 2023-12-27 21:30:54,776] Trial 11 finished with value: 0.37402716313139023 and parameters: {'n_estimators': 248, 'learning_rate': 0.04739400288519827, 'max_depth': 6, 'min_samples_split': 20, 'min_samples_leaf': 7}. Best is trial 0 with value: 0.37402716313139023.\n",
            "[I 2023-12-27 21:31:18,664] Trial 12 finished with value: 0.37387456126964747 and parameters: {'n_estimators': 242, 'learning_rate': 0.01009930180818768, 'max_depth': 5, 'min_samples_split': 20, 'min_samples_leaf': 7}. Best is trial 0 with value: 0.37402716313139023.\n",
            "[I 2023-12-27 21:31:32,651] Trial 13 finished with value: 0.37402716313139023 and parameters: {'n_estimators': 131, 'learning_rate': 0.18510284032718688, 'max_depth': 6, 'min_samples_split': 15, 'min_samples_leaf': 1}. Best is trial 0 with value: 0.37402716313139023.\n",
            "[I 2023-12-27 21:31:59,607] Trial 14 finished with value: 0.37234854265222034 and parameters: {'n_estimators': 294, 'learning_rate': 0.01600791250980906, 'max_depth': 4, 'min_samples_split': 17, 'min_samples_leaf': 14}. Best is trial 0 with value: 0.37402716313139023.\n",
            "[I 2023-12-27 21:32:22,414] Trial 15 finished with value: 0.37402716313139023 and parameters: {'n_estimators': 223, 'learning_rate': 0.14780584372342329, 'max_depth': 5, 'min_samples_split': 7, 'min_samples_leaf': 9}. Best is trial 0 with value: 0.37402716313139023.\n",
            "[I 2023-12-27 21:32:40,656] Trial 16 finished with value: 0.37402716313139023 and parameters: {'n_estimators': 146, 'learning_rate': 0.0570045678839105, 'max_depth': 7, 'min_samples_split': 18, 'min_samples_leaf': 5}. Best is trial 0 with value: 0.37402716313139023.\n",
            "[I 2023-12-27 21:32:55,177] Trial 17 finished with value: 0.3708225240347932 and parameters: {'n_estimators': 160, 'learning_rate': 0.01443028591332245, 'max_depth': 4, 'min_samples_split': 14, 'min_samples_leaf': 11}. Best is trial 0 with value: 0.37402716313139023.\n",
            "[I 2023-12-27 21:33:30,999] Trial 18 finished with value: 0.37402716313139023 and parameters: {'n_estimators': 263, 'learning_rate': 0.1908835793604437, 'max_depth': 10, 'min_samples_split': 8, 'min_samples_leaf': 5}. Best is trial 0 with value: 0.37402716313139023.\n",
            "[I 2023-12-27 21:33:48,121] Trial 19 finished with value: 0.37234854265222034 and parameters: {'n_estimators': 213, 'learning_rate': 0.042183779939533636, 'max_depth': 3, 'min_samples_split': 17, 'min_samples_leaf': 14}. Best is trial 0 with value: 0.37402716313139023.\n"
          ]
        },
        {
          "output_type": "stream",
          "name": "stdout",
          "text": [
            "Наилучшие гиперпараметры: {'n_estimators': 223, 'learning_rate': 0.45995960274565323, 'max_depth': 5, 'min_samples_split': 3, 'min_samples_leaf': 10}\n"
          ]
        }
      ]
    },
    {
      "cell_type": "code",
      "source": [
        "# Объединение тренировочной и тестовой выборок для обработки категориальных признаков\n",
        "combined_data = pd.concat([X_train, X_test], axis=0)\n",
        "\n",
        "# Преобразование категориальных признаков в дамми-переменные для объединенных данных\n",
        "combined_encoded = pd.get_dummies(combined_data)\n",
        "\n",
        "# Разделение обратно на тренировочный и тестовый наборы\n",
        "X_train_encoded = combined_encoded[:len(X_train)]\n",
        "X_test_encoded = combined_encoded[len(X_train):]\n",
        "\n",
        "# Создание и обучение модели с наилучшими гиперпараметрами на обработанных данных\n",
        "best_model = GradientBoostingClassifier(**best_params, random_state=42)\n",
        "best_model.fit(X_train_encoded, y_train)\n",
        "\n",
        "# Предсказание на тестовой выборке с помощью обученной модели\n",
        "best_predictions = best_model.predict(X_test_encoded)\n",
        "best_accuracy = accuracy_score(y_test, best_predictions)\n",
        "print(f\"Accuracy на тестовой выборке с лучшей моделью: {best_accuracy}\")\n"
      ],
      "metadata": {
        "colab": {
          "base_uri": "https://localhost:8080/"
        },
        "id": "TftGhQfzJmKE",
        "outputId": "375e09f2-98e2-44fd-f517-b1ccce3ca007"
      },
      "execution_count": null,
      "outputs": [
        {
          "output_type": "stream",
          "name": "stdout",
          "text": [
            "Accuracy на тестовой выборке с лучшей моделью: 0.37402716313139023\n"
          ]
        }
      ]
    }
  ],
  "metadata": {
    "colab": {
      "provenance": [],
      "toc_visible": true
    },
    "kernelspec": {
      "display_name": "Python 3",
      "name": "python3"
    },
    "language_info": {
      "name": "python"
    }
  },
  "nbformat": 4,
  "nbformat_minor": 0
}